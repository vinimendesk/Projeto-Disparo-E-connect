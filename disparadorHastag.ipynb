{
 "cells": [
  {
   "cell_type": "code",
   "execution_count": null,
   "metadata": {},
   "outputs": [],
   "source": [
    "from selenium import webdriver\n",
    "from selenium.webdriver.common.keys import Keys\n",
    "from selenium.webdriver.common.by import By\n",
    "import urllib\n",
    "import time\n",
    "\n",
    "navegador = webdriver.Chrome()\n",
    "navegador.get(\"https://web.whatsapp.com\")\n",
    "\"//*[@id=\"app\"]/div/div[3]/div/div[3]\""
   ]
  },
  {
   "cell_type": "code",
   "execution_count": null,
   "metadata": {},
   "outputs": [],
   "source": [
    "numero = 559481452268\n",
    "texto = \"Oi, testando disparador.\"\n",
    "# Transforma o texto \n",
    "texto = urllib.parse.quote(texto)\n",
    "\n",
    "link = f\"https://web.whatsapp.com/send?phone={numero}&text={texto}\"\n",
    "\n",
    "navegador.get(link)\n",
    "time.sleep(10)\n",
    "\n",
    "navegador.find_element().click(By.XPATH, '//*[@id=\"main\"]/footer/div[1]/div/span/div/div[2]/div[2]/button')\n",
    "time.sleep(2)"
   ]
  }
 ],
 "metadata": {
  "kernelspec": {
   "display_name": "Python 3",
   "language": "python",
   "name": "python3"
  },
  "language_info": {
   "codemirror_mode": {
    "name": "ipython",
    "version": 3
   },
   "file_extension": ".py",
   "mimetype": "text/x-python",
   "name": "python",
   "nbconvert_exporter": "python",
   "pygments_lexer": "ipython3",
   "version": "3.13.2"
  }
 },
 "nbformat": 4,
 "nbformat_minor": 2
}
