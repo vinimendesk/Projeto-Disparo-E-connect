{
 "cells": [
  {
   "cell_type": "code",
   "execution_count": 1,
   "metadata": {},
   "outputs": [],
   "source": [
    "from selenium import webdriver\n",
    "from selenium.webdriver.common.keys import Keys\n",
    "from selenium.webdriver.common.by import By\n",
    "import urllib\n",
    "import time\n",
    "import random\n",
    "\n",
    "\n",
    "navegador = webdriver.Chrome()\n",
    "# Acessa o whatsapp\n",
    "navegador.get(\"https://web.whatsapp.com\")\n",
    "# Verifica de a lista de elementos é menor que 1 (se for menor que 1 é porque nõa há elemento na tela e portanto não carregou.)\n",
    "while len(navegador.find_elements(By.ID, 'side')) < 1:\n",
    "    # Se a lista estiver vazia, espere até aparecer algum elemento.\n",
    "    time.sleep(1)"
   ]
  },
  {
   "cell_type": "code",
   "execution_count": 2,
   "metadata": {},
   "outputs": [],
   "source": [
    "import pandas as pd\n",
    "import openpyxl\n",
    "\n",
    "path = \"Teste Disparador.xlsx\"\n",
    "\n",
    "df = pd.read_excel(path)"
   ]
  },
  {
   "cell_type": "code",
   "execution_count": 3,
   "metadata": {},
   "outputs": [],
   "source": [
    "def enviar_mensagem(numero, texto, nome):\n",
    "\n",
    "    # Procura\n",
    "    nomeSubstituir = \"(nome)\"\n",
    "    texto = texto.replace(nomeSubstituir, nome)\n",
    "\n",
    "    # Formata a string para ser aceito na url.\n",
    "    texto = urllib.parse.quote(texto)\n",
    "\n",
    "    link = f\"https://web.whatsapp.com/send?phone={numero}&text={texto}\"\n",
    "\n",
    "    # Abre o whatsapp no link e número específicado.\n",
    "    navegador.get(link)\n",
    "    # Verifica de a lista de elementos é menor que 1 (se for menor que 1 é porque nõa há elemento na tela e portanto não carregou.)\n",
    "    while len(navegador.find_elements(By.ID, 'side')) < 1:\n",
    "        # Se a lista estiver vazia, espere até aparecer algum elemento.\n",
    "        time.sleep(1)\n",
    "    time.sleep(2)\n",
    "\n",
    "\n",
    "    # Verifica se o número é válido.\n",
    "    try:\n",
    "        if len(navegador.find_elements(By.XPATH, '//*[@id=\"app\"]/div/span[2]/div/span/div/div/div/div/div/div[1]')) < 1:\n",
    "            # Procura o botão de enviar de efetua o click.\n",
    "            navegador.find_element(By.XPATH, '//*[@id=\"main\"]/footer/div[1]/div/span/div/div[2]/div[2]/button/span').click()\n",
    "            print(f\"{numero}, enviado, sem erros\")\n",
    "        else:\n",
    "            print(f\"{numero}, numero inválido, sem erros\")\n",
    "    except Exception as e:\n",
    "        print(f\"{numero}, erro no envio, {e}\")\n",
    "\n",
    "#enviar_mensagem(55948130878, \"Oi, (nome). Testando disparador.\", \"Lorrany\")"
   ]
  },
  {
   "cell_type": "code",
   "execution_count": null,
   "metadata": {},
   "outputs": [
    {
     "name": "stdout",
     "output_type": "stream",
     "text": [
      "559481452268, enviado, sem erros\n",
      "55948145226, numero inválido, sem erros\n",
      "559481308780, enviado, sem erros\n"
     ]
    }
   ],
   "source": [
    "DELAY_MIN = 120\n",
    "DELAY_MAX = 250\n",
    "DELAY_MINCONTADOR = 3600\n",
    "DELAY_MAXCONTADOR = 5400\n",
    "textos = [\n",
    "    \"Oi, (nome). Esse é o teste do disparador com mensagens aleatórias. A palavra 'salário' vem do latim 'salarium', porque os romanos eram pagos em... sal! (Era super valioso na época).\",\n",
    "    \"Oi (nome). Esse é o teste do disparador com mensagens aleatórias. O cérebro humano consome 20 porcento da energia do corpo, mas pesa só 2 porcento dele.\",\n",
    "    \"Oi (nome). Esse é o texto aleatório número 3, O nome científico do ornitorrinco é Ornithorhynchus anatinus.\"\n",
    "]\n",
    "contador = 0\n",
    "\n",
    "for index, row in df.iterrows():\n",
    "\n",
    "    numero = str(row['Numero'])\n",
    "    nome = str(row['Nome'])\n",
    "\n",
    "    enviar_mensagem(numero, random.choice(textos), nome)\n",
    "\n",
    "    # Valor aleatório entre 2 minutos e 5 minutos.\n",
    "    time.sleep(random.randint(DELAY_MIN, DELAY_MAX))\n",
    "\n",
    "    # Verifica quantas mensagens foram enviadas.\n",
    "    contador += 1\n",
    "\n",
    "    # Se forem enviadas mais de 50 mensagens, espere mais tempo.\n",
    "    if contador > 50:\n",
    "        time.sleep(random.randint(DELAY_MINCONTADOR, DELAY_MAXCONTADOR))\n",
    "        contador = 0\n"
   ]
  }
 ],
 "metadata": {
  "kernelspec": {
   "display_name": "Python 3",
   "language": "python",
   "name": "python3"
  },
  "language_info": {
   "codemirror_mode": {
    "name": "ipython",
    "version": 3
   },
   "file_extension": ".py",
   "mimetype": "text/x-python",
   "name": "python",
   "nbconvert_exporter": "python",
   "pygments_lexer": "ipython3",
   "version": "3.13.2"
  }
 },
 "nbformat": 4,
 "nbformat_minor": 2
}
